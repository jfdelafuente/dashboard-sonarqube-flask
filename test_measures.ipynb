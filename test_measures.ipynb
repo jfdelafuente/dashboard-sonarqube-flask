{
 "cells": [
  {
   "cell_type": "code",
   "execution_count": 1,
   "metadata": {},
   "outputs": [
    {
     "data": {
      "text/plain": [
       "True"
      ]
     },
     "execution_count": 1,
     "metadata": {},
     "output_type": "execute_result"
    }
   ],
   "source": [
    "import pandas as pd\n",
    "import os\n",
    "from dotenv import load_dotenv\n",
    "\n",
    "load_dotenv()"
   ]
  },
  {
   "cell_type": "code",
   "execution_count": 2,
   "metadata": {},
   "outputs": [],
   "source": [
    "datos_csv = r\"\" + os.environ['DATOS_CSV']\n",
    "historico_csv = r\"\" + os.environ['HISTORICO_CSV']\n",
    "\n",
    "file_metricas = 'metricas.csv'\n",
    "file_historico = 'historico.csv'\n",
    "\n",
    "data = pd.read_csv(datos_csv, sep=\";\")\n",
    "historico = pd.read_csv(historico_csv, sep=\";\")"
   ]
  },
  {
   "cell_type": "code",
   "execution_count": 3,
   "metadata": {},
   "outputs": [
    {
     "name": "stdout",
     "output_type": "stream",
     "text": [
      "<class 'pandas.core.frame.DataFrame'>\n",
      "RangeIndex: 609 entries, 0 to 608\n",
      "Data columns (total 17 columns):\n",
      " #   Column                    Non-Null Count  Dtype  \n",
      "---  ------                    --------------  -----  \n",
      " 0   aplicacion                609 non-null    object \n",
      " 1   proyecto                  609 non-null    object \n",
      " 2   lenguaje                  609 non-null    object \n",
      " 3   date                      609 non-null    object \n",
      " 4   complexity                507 non-null    float64\n",
      " 5   coverage                  538 non-null    float64\n",
      " 6   ncloc                     527 non-null    float64\n",
      " 7   duplicated_lines_density  567 non-null    float64\n",
      " 8   code_smells               609 non-null    int64  \n",
      " 9   bugs                      609 non-null    int64  \n",
      " 10  vulnerabilities           609 non-null    int64  \n",
      " 11  sqale_index               609 non-null    int64  \n",
      " 12  sqale_rating              609 non-null    float64\n",
      " 13  reliability_rating        609 non-null    float64\n",
      " 14  security_rating           609 non-null    float64\n",
      " 15  alert_status              609 non-null    object \n",
      " 16  app_sonar                 609 non-null    object \n",
      "dtypes: float64(7), int64(4), object(6)\n",
      "memory usage: 66.7+ KB\n",
      "None\n"
     ]
    }
   ],
   "source": [
    "print(data.info())"
   ]
  },
  {
   "cell_type": "code",
   "execution_count": 4,
   "metadata": {},
   "outputs": [
    {
     "name": "stdout",
     "output_type": "stream",
     "text": [
      "aplicacion                    0\n",
      "proyecto                      0\n",
      "lenguaje                      0\n",
      "date                          0\n",
      "complexity                  102\n",
      "coverage                     71\n",
      "ncloc                        82\n",
      "duplicated_lines_density     42\n",
      "code_smells                   0\n",
      "bugs                          0\n",
      "vulnerabilities               0\n",
      "sqale_index                   0\n",
      "sqale_rating                  0\n",
      "reliability_rating            0\n",
      "security_rating               0\n",
      "alert_status                  0\n",
      "app_sonar                     0\n",
      "dtype: int64\n",
      "(609, 17)\n"
     ]
    }
   ],
   "source": [
    "print(data.isnull().sum())\n",
    "print(data.shape)"
   ]
  },
  {
   "cell_type": "code",
   "execution_count": 5,
   "metadata": {},
   "outputs": [],
   "source": [
    "data.dropna(axis=0, how='any', inplace=True)\n",
    "historico.dropna(axis=0, how='any', inplace=True)"
   ]
  },
  {
   "cell_type": "code",
   "execution_count": 6,
   "metadata": {},
   "outputs": [
    {
     "name": "stdout",
     "output_type": "stream",
     "text": [
      "(498, 17)\n",
      "aplicacion                  0\n",
      "proyecto                    0\n",
      "lenguaje                    0\n",
      "date                        0\n",
      "complexity                  0\n",
      "coverage                    0\n",
      "ncloc                       0\n",
      "duplicated_lines_density    0\n",
      "code_smells                 0\n",
      "bugs                        0\n",
      "vulnerabilities             0\n",
      "sqale_index                 0\n",
      "sqale_rating                0\n",
      "reliability_rating          0\n",
      "security_rating             0\n",
      "alert_status                0\n",
      "app_sonar                   0\n",
      "dtype: int64\n"
     ]
    }
   ],
   "source": [
    "print(data.shape)\n",
    "print(data.isnull().sum())"
   ]
  },
  {
   "cell_type": "code",
   "execution_count": 7,
   "metadata": {},
   "outputs": [],
   "source": [
    "data['reliability_label'] = data['reliability_rating']\n",
    "data['sqale_label'] = data['sqale_rating']\n",
    "data['security_label'] = data['security_rating']\n",
    "data['reliability_label'].replace([ 1, 2, 3, 4, 5], ['A', 'B', 'C', 'D', 'E'], inplace=True)\n",
    "data['sqale_label'].replace([ 1, 2, 3, 4, 5], ['A', 'B', 'C', 'D', 'E'], inplace=True)\n",
    "data['security_label'].replace([ 1, 2, 3, 4, 5], ['A', 'B', 'C', 'D', 'E'], inplace=True)"
   ]
  },
  {
   "cell_type": "code",
   "execution_count": 8,
   "metadata": {},
   "outputs": [],
   "source": [
    "historico['reliability_label'] = historico['reliability_rating']\n",
    "historico['sqale_label'] = historico['sqale_rating']\n",
    "historico['security_label'] = historico['security_rating']\n",
    "historico['reliability_label'].replace([ 1, 2, 3, 4, 5], ['A', 'B', 'C', 'D', 'E'], inplace=True)\n",
    "historico['sqale_label'].replace([ 1, 2, 3, 4, 5], ['A', 'B', 'C', 'D', 'E'], inplace=True)\n",
    "historico['security_label'].replace([ 1, 2, 3, 4, 5], ['A', 'B', 'C', 'D', 'E'], inplace=True)"
   ]
  },
  {
   "cell_type": "code",
   "execution_count": 9,
   "metadata": {},
   "outputs": [
    {
     "name": "stdout",
     "output_type": "stream",
     "text": [
      "(498, 20)\n",
      "aplicacion                  0\n",
      "proyecto                    0\n",
      "lenguaje                    0\n",
      "date                        0\n",
      "complexity                  0\n",
      "coverage                    0\n",
      "ncloc                       0\n",
      "duplicated_lines_density    0\n",
      "code_smells                 0\n",
      "bugs                        0\n",
      "vulnerabilities             0\n",
      "sqale_index                 0\n",
      "sqale_rating                0\n",
      "reliability_rating          0\n",
      "security_rating             0\n",
      "alert_status                0\n",
      "app_sonar                   0\n",
      "reliability_label           0\n",
      "sqale_label                 0\n",
      "security_label              0\n",
      "dtype: int64\n"
     ]
    }
   ],
   "source": [
    "print(data.shape)\n",
    "print(data.isnull().sum())"
   ]
  },
  {
   "cell_type": "code",
   "execution_count": 10,
   "metadata": {},
   "outputs": [
    {
     "name": "stdout",
     "output_type": "stream",
     "text": [
      "<bound method DataFrame.info of          aplicacion                  proyecto    lenguaje  \\\n",
      "0      abacusbrmosp                    abacus        java   \n",
      "1    alegacionesosp               alegaciones        java   \n",
      "2         altairosp                 altairweb        java   \n",
      "3       altamiraosp                  altamira  typescript   \n",
      "4           amonosp         productorderingjz        java   \n",
      "..              ...                       ...         ...   \n",
      "604    xpressionosp  edicionxmljazztelempresa        java   \n",
      "605    xpressionosp      edicionxmlfondoseuro        java   \n",
      "606    xpressionosp           edicionxmlmovil        java   \n",
      "607    xpressionosp       edicionxmlsohomovil        java   \n",
      "608    xpressionosp       edicionxmlresimovil        java   \n",
      "\n",
      "                    date  complexity  coverage     ncloc  \\\n",
      "0    2023-08-03 09:07:05     25876.0       0.0  216311.0   \n",
      "1    2023-08-07 10:34:57      8437.0       0.0   58740.0   \n",
      "2    2023-08-01 11:54:09      3113.0       0.0   16519.0   \n",
      "3    2023-08-31 13:38:12     32644.0      72.2  194392.0   \n",
      "4    2023-07-31 08:55:37     25035.0      11.4  103209.0   \n",
      "..                   ...         ...       ...       ...   \n",
      "604  2023-08-18 06:04:30      4392.0       0.0   19991.0   \n",
      "605  2023-08-10 08:31:14       779.0      78.7    4992.0   \n",
      "606  2023-08-30 09:04:27      7256.0       0.0   55839.0   \n",
      "607  2023-09-01 05:56:14      7998.0      74.2   51799.0   \n",
      "608  2023-08-25 12:37:21      8222.0      71.7   47478.0   \n",
      "\n",
      "     duplicated_lines_density  code_smells  bugs  vulnerabilities  \\\n",
      "0                        39.7        27015   792                0   \n",
      "1                        36.3         2823   250                0   \n",
      "2                        27.2          881     0                0   \n",
      "3                         4.5         3650   246                3   \n",
      "4                        40.3         6172   175                0   \n",
      "..                        ...          ...   ...              ...   \n",
      "604                       5.3          795     4                0   \n",
      "605                       1.5            4     0                0   \n",
      "606                       5.4          458     0                0   \n",
      "607                       1.6           59     0                0   \n",
      "608                       1.9           67     1                0   \n",
      "\n",
      "     sqale_index  sqale_rating  reliability_rating  security_rating  \\\n",
      "0         254754           1.0                 5.0              1.0   \n",
      "1          16730           1.0                 5.0              1.0   \n",
      "2          10655           1.0                 1.0              1.0   \n",
      "3          26214           1.0                 3.0              5.0   \n",
      "4          43280           1.0                 3.0              1.0   \n",
      "..           ...           ...                 ...              ...   \n",
      "604        10678           1.0                 3.0              1.0   \n",
      "605           30           1.0                 1.0              1.0   \n",
      "606         5417           1.0                 1.0              1.0   \n",
      "607          181           1.0                 1.0              1.0   \n",
      "608          133           1.0                 3.0              1.0   \n",
      "\n",
      "    alert_status                                          app_sonar  \\\n",
      "0             OK    com.orange.abacusbrmosp.application.java:abacus   \n",
      "1             OK  com.orange.alegacionesosp.application.java:ale...   \n",
      "2          ERROR    com.orange.altairosp.application.java:altairweb   \n",
      "3             OK     com.orange.altamiraosp.spa.typescript:altamira   \n",
      "4             OK  com.orange.amonosp.application.java:productord...   \n",
      "..           ...                                                ...   \n",
      "604           OK  com.orange.xpressionosp.application.java:edici...   \n",
      "605           OK  com.orange.xpressionosp.application.java:edici...   \n",
      "606           OK  com.orange.xpressionosp.application.java:edici...   \n",
      "607           OK  com.orange.xpressionosp.application.java:edici...   \n",
      "608           OK  com.orange.xpressionosp.application.java:edici...   \n",
      "\n",
      "    reliability_label sqale_label security_label  \n",
      "0                   E           A              A  \n",
      "1                   E           A              A  \n",
      "2                   A           A              A  \n",
      "3                   C           A              E  \n",
      "4                   C           A              A  \n",
      "..                ...         ...            ...  \n",
      "604                 C           A              A  \n",
      "605                 A           A              A  \n",
      "606                 A           A              A  \n",
      "607                 A           A              A  \n",
      "608                 C           A              A  \n",
      "\n",
      "[498 rows x 20 columns]>\n"
     ]
    }
   ],
   "source": [
    "print(data.info)"
   ]
  },
  {
   "cell_type": "code",
   "execution_count": 11,
   "metadata": {},
   "outputs": [],
   "source": [
    "\n",
    "data.to_csv(file_metricas, index=False, sep=\";\")\n",
    "historico.to_csv(file_historico, index=False, sep=\";\")"
   ]
  }
 ],
 "metadata": {
  "kernelspec": {
   "display_name": "venv",
   "language": "python",
   "name": "python3"
  },
  "language_info": {
   "codemirror_mode": {
    "name": "ipython",
    "version": 3
   },
   "file_extension": ".py",
   "mimetype": "text/x-python",
   "name": "python",
   "nbconvert_exporter": "python",
   "pygments_lexer": "ipython3",
   "version": "3.11.2"
  },
  "orig_nbformat": 4,
  "vscode": {
   "interpreter": {
    "hash": "c23ea429ea1b7d9f4bac9d4d43a702da91795dc34fe840eb6e840122e3c2f3d2"
   }
  }
 },
 "nbformat": 4,
 "nbformat_minor": 2
}
