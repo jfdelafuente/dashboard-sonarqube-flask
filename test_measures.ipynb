{
 "cells": [
  {
   "cell_type": "code",
   "execution_count": 1,
   "metadata": {},
   "outputs": [
    {
     "data": {
      "text/plain": [
       "True"
      ]
     },
     "execution_count": 1,
     "metadata": {},
     "output_type": "execute_result"
    }
   ],
   "source": [
    "import pandas as pd\n",
    "import os\n",
    "from dotenv import load_dotenv\n",
    "\n",
    "load_dotenv()"
   ]
  },
  {
   "cell_type": "code",
   "execution_count": 2,
   "metadata": {},
   "outputs": [],
   "source": [
    "datos_csv = r\"\" + os.environ['DATOS_CSV']\n",
    "historico_csv = r\"\" + os.environ['HISTORICO_CSV']\n",
    "\n",
    "file_metricas = 'metricas.csv'\n",
    "file_historico = 'historico.csv'\n",
    "\n",
    "data = pd.read_csv(datos_csv, sep=\";\")\n",
    "historico = pd.read_csv(historico_csv, sep=\";\")"
   ]
  },
  {
   "cell_type": "code",
   "execution_count": 3,
   "metadata": {},
   "outputs": [
    {
     "name": "stdout",
     "output_type": "stream",
     "text": [
      "<class 'pandas.core.frame.DataFrame'>\n",
      "RangeIndex: 127 entries, 0 to 126\n",
      "Data columns (total 17 columns):\n",
      " #   Column                    Non-Null Count  Dtype  \n",
      "---  ------                    --------------  -----  \n",
      " 0   aplicacion                127 non-null    object \n",
      " 1   proyecto                  127 non-null    object \n",
      " 2   lenguaje                  127 non-null    object \n",
      " 3   date                      127 non-null    object \n",
      " 4   complexity                100 non-null    float64\n",
      " 5   coverage                  98 non-null     float64\n",
      " 6   ncloc                     100 non-null    float64\n",
      " 7   duplicated_lines_density  119 non-null    float64\n",
      " 8   code_smells               127 non-null    int64  \n",
      " 9   bugs                      127 non-null    int64  \n",
      " 10  vulnerabilities           127 non-null    int64  \n",
      " 11  sqale_index               127 non-null    int64  \n",
      " 12  sqale_rating              127 non-null    float64\n",
      " 13  reliability_rating        127 non-null    float64\n",
      " 14  security_rating           127 non-null    float64\n",
      " 15  alert_status              127 non-null    object \n",
      " 16  app_sonar                 127 non-null    object \n",
      "dtypes: float64(7), int64(4), object(6)\n",
      "memory usage: 14.0+ KB\n",
      "None\n"
     ]
    }
   ],
   "source": [
    "print(data.info())"
   ]
  },
  {
   "cell_type": "code",
   "execution_count": 4,
   "metadata": {},
   "outputs": [
    {
     "name": "stdout",
     "output_type": "stream",
     "text": [
      "aplicacion                   0\n",
      "proyecto                     0\n",
      "lenguaje                     0\n",
      "date                         0\n",
      "complexity                  27\n",
      "coverage                    29\n",
      "ncloc                       27\n",
      "duplicated_lines_density     8\n",
      "code_smells                  0\n",
      "bugs                         0\n",
      "vulnerabilities              0\n",
      "sqale_index                  0\n",
      "sqale_rating                 0\n",
      "reliability_rating           0\n",
      "security_rating              0\n",
      "alert_status                 0\n",
      "app_sonar                    0\n",
      "dtype: int64\n",
      "(127, 17)\n"
     ]
    }
   ],
   "source": [
    "print(data.isnull().sum())\n",
    "print(data.shape)"
   ]
  },
  {
   "cell_type": "code",
   "execution_count": 5,
   "metadata": {},
   "outputs": [],
   "source": [
    "data.dropna(axis=0, how='any', inplace=True)\n",
    "historico.dropna(axis=0, how='any', inplace=True)"
   ]
  },
  {
   "cell_type": "code",
   "execution_count": 6,
   "metadata": {},
   "outputs": [
    {
     "name": "stdout",
     "output_type": "stream",
     "text": [
      "(98, 17)\n",
      "aplicacion                  0\n",
      "proyecto                    0\n",
      "lenguaje                    0\n",
      "date                        0\n",
      "complexity                  0\n",
      "coverage                    0\n",
      "ncloc                       0\n",
      "duplicated_lines_density    0\n",
      "code_smells                 0\n",
      "bugs                        0\n",
      "vulnerabilities             0\n",
      "sqale_index                 0\n",
      "sqale_rating                0\n",
      "reliability_rating          0\n",
      "security_rating             0\n",
      "alert_status                0\n",
      "app_sonar                   0\n",
      "dtype: int64\n"
     ]
    }
   ],
   "source": [
    "print(data.shape)\n",
    "print(data.isnull().sum())"
   ]
  },
  {
   "cell_type": "code",
   "execution_count": 7,
   "metadata": {},
   "outputs": [],
   "source": [
    "data['reliability_label'] = data['reliability_rating']\n",
    "data['sqale_label'] = data['sqale_rating']\n",
    "data['security_label'] = data['security_rating']\n",
    "data['reliability_label'].replace([ 1, 2, 3, 4, 5], ['A', 'B', 'C', 'D', 'E'], inplace=True)\n",
    "data['sqale_label'].replace([ 1, 2, 3, 4, 5], ['A', 'B', 'C', 'D', 'E'], inplace=True)\n",
    "data['security_label'].replace([ 1, 2, 3, 4, 5], ['A', 'B', 'C', 'D', 'E'], inplace=True)"
   ]
  },
  {
   "cell_type": "code",
   "execution_count": 8,
   "metadata": {},
   "outputs": [],
   "source": [
    "historico['reliability_label'] = historico['reliability_rating']\n",
    "historico['sqale_label'] = historico['sqale_rating']\n",
    "historico['security_label'] = historico['security_rating']\n",
    "historico['reliability_label'].replace([ 1, 2, 3, 4, 5], ['A', 'B', 'C', 'D', 'E'], inplace=True)\n",
    "historico['sqale_label'].replace([ 1, 2, 3, 4, 5], ['A', 'B', 'C', 'D', 'E'], inplace=True)\n",
    "historico['security_label'].replace([ 1, 2, 3, 4, 5], ['A', 'B', 'C', 'D', 'E'], inplace=True)"
   ]
  },
  {
   "cell_type": "code",
   "execution_count": 9,
   "metadata": {},
   "outputs": [
    {
     "name": "stdout",
     "output_type": "stream",
     "text": [
      "(98, 20)\n",
      "aplicacion                  0\n",
      "proyecto                    0\n",
      "lenguaje                    0\n",
      "date                        0\n",
      "complexity                  0\n",
      "coverage                    0\n",
      "ncloc                       0\n",
      "duplicated_lines_density    0\n",
      "code_smells                 0\n",
      "bugs                        0\n",
      "vulnerabilities             0\n",
      "sqale_index                 0\n",
      "sqale_rating                0\n",
      "reliability_rating          0\n",
      "security_rating             0\n",
      "alert_status                0\n",
      "app_sonar                   0\n",
      "reliability_label           0\n",
      "sqale_label                 0\n",
      "security_label              0\n",
      "dtype: int64\n"
     ]
    }
   ],
   "source": [
    "print(data.shape)\n",
    "print(data.isnull().sum())"
   ]
  },
  {
   "cell_type": "code",
   "execution_count": 10,
   "metadata": {},
   "outputs": [
    {
     "name": "stdout",
     "output_type": "stream",
     "text": [
      "<bound method DataFrame.info of              aplicacion                   proyecto lenguaje  \\\n",
      "0          abacusbrmosp                     abacus     java   \n",
      "1              agoraosp              portalcliente     java   \n",
      "2              agoraosp                   npdistri     java   \n",
      "4               alceosp                        s2c     java   \n",
      "5             altairosp                altairmovil     java   \n",
      "..                  ...                        ...      ...   \n",
      "119       tapartnersosp              partnersbatch     java   \n",
      "122  webmantenedoresosp                    eemmapp     java   \n",
      "124             xnetosp                    xnetosp     java   \n",
      "125             xnetosp                       xnet     java   \n",
      "126        xpressionosp  edicionindexjazztelmasivo     java   \n",
      "\n",
      "                    date  complexity  coverage     ncloc  \\\n",
      "0    2023-07-11 09:26:15     25832.0       0.0  216138.0   \n",
      "1    2023-04-24 11:50:28      9132.0       0.0   48994.0   \n",
      "2    2023-06-28 14:48:45     53462.0       0.0  288943.0   \n",
      "4    2022-11-16 10:38:15     17640.0       0.0   83725.0   \n",
      "5    2023-03-28 11:21:58      1422.0       0.0    6424.0   \n",
      "..                   ...         ...       ...       ...   \n",
      "119  2022-08-30 09:58:39       183.0       0.0    1527.0   \n",
      "122  2022-12-16 08:22:15     17604.0       0.0   81936.0   \n",
      "124  2023-05-31 13:30:08     48486.0       0.0  229128.0   \n",
      "125  2023-04-24 13:23:28     49053.0       0.0  231658.0   \n",
      "126  2023-03-23 15:34:18       277.0       0.0    1820.0   \n",
      "\n",
      "     duplicated_lines_density  code_smells  bugs  vulnerabilities  \\\n",
      "0                        39.8        29763   868               48   \n",
      "1                        39.6         5870   127                5   \n",
      "2                        41.6        40206  1088               40   \n",
      "4                        13.3         5437   103                1   \n",
      "5                         5.1          209     5                0   \n",
      "..                        ...          ...   ...              ...   \n",
      "119                       9.7          232    15                9   \n",
      "122                      22.0         6425   247               23   \n",
      "124                      17.7        18852   102               12   \n",
      "125                      17.8        18997   106               13   \n",
      "126                       2.8          171     8                2   \n",
      "\n",
      "     sqale_index  sqale_rating  reliability_rating  security_rating  \\\n",
      "0         348876           2.0                 5.0              2.0   \n",
      "1          63849           1.0                 5.0              5.0   \n",
      "2         431106           1.0                 5.0              5.0   \n",
      "4          42378           1.0                 5.0              2.0   \n",
      "5           2202           1.0                 3.0              1.0   \n",
      "..           ...           ...                 ...              ...   \n",
      "119         2524           2.0                 5.0              2.0   \n",
      "122        87113           1.0                 5.0              2.0   \n",
      "124       224468           1.0                 5.0              5.0   \n",
      "125       226650           1.0                 5.0              5.0   \n",
      "126         1225           1.0                 5.0              2.0   \n",
      "\n",
      "    alert_status                                          app_sonar  \\\n",
      "0             OK    com.orange.abacusbrmosp.application.java:abacus   \n",
      "1          ERROR  com.orange.agoraosp.application.java:portalcli...   \n",
      "2             OK      com.orange.agoraosp.application.java:npdistri   \n",
      "4          ERROR            com.orange.alceosp.application.java:s2c   \n",
      "5             OK  com.orange.altairosp.application.java:altairmovil   \n",
      "..           ...                                                ...   \n",
      "119           OK  com.orange.tapartnersosp.application.java:part...   \n",
      "122           OK  com.orange.webmantenedoresosp.application.java...   \n",
      "124        ERROR        com.orange.xnetosp.application.java:xnetosp   \n",
      "125        ERROR           com.orange.xnetosp.application.java:xnet   \n",
      "126           OK  com.orange.xpressionosp.application.java:edici...   \n",
      "\n",
      "    reliability_label sqale_label security_label  \n",
      "0                   E           B              B  \n",
      "1                   E           A              E  \n",
      "2                   E           A              E  \n",
      "4                   E           A              B  \n",
      "5                   C           A              A  \n",
      "..                ...         ...            ...  \n",
      "119                 E           B              B  \n",
      "122                 E           A              B  \n",
      "124                 E           A              E  \n",
      "125                 E           A              E  \n",
      "126                 E           A              B  \n",
      "\n",
      "[98 rows x 20 columns]>\n"
     ]
    }
   ],
   "source": [
    "print(data.info)"
   ]
  },
  {
   "cell_type": "code",
   "execution_count": 11,
   "metadata": {},
   "outputs": [],
   "source": [
    "\n",
    "data.to_csv(file_metricas, index=False, sep=\";\")\n",
    "historico.to_csv(file_historico, index=False, sep=\";\")"
   ]
  }
 ],
 "metadata": {
  "kernelspec": {
   "display_name": "Python 3",
   "language": "python",
   "name": "python3"
  },
  "language_info": {
   "codemirror_mode": {
    "name": "ipython",
    "version": 3
   },
   "file_extension": ".py",
   "mimetype": "text/x-python",
   "name": "python",
   "nbconvert_exporter": "python",
   "pygments_lexer": "ipython3",
   "version": "3.11.2"
  },
  "orig_nbformat": 4,
  "vscode": {
   "interpreter": {
    "hash": "173ae74ecd759d33659dc89cc0ace91dba90ddaa088b7a848a7f37d845ddcc5d"
   }
  }
 },
 "nbformat": 4,
 "nbformat_minor": 2
}
